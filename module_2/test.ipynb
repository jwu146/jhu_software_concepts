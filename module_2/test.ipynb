{
 "cells": [
  {
   "cell_type": "code",
   "execution_count": null,
   "id": "0da9d813",
   "metadata": {},
   "outputs": [
    {
     "ename": "",
     "evalue": "",
     "output_type": "error",
     "traceback": [
      "\u001b[1;31mRunning cells with '.venv (Python 3.13.3)' requires the ipykernel package.\n",
      "\u001b[1;31mInstall 'ipykernel' into the Python environment. \n",
      "\u001b[1;31mCommand: '\"c:/Users/wuhyj/Documents/Code/Data Science/jhu_software_concepts/module_1/.venv/Scripts/python.exe\" -m pip install ipykernel -U --force-reinstall'"
     ]
    }
   ],
   "source": [
    "import re\n",
    "\n",
    "sample = \"Welcome to python EN605.256: Software Concepts in Python\"\n",
    "\n",
    "\n",
    "re.findall(\"\\d{3}\", sample)\n",
    "\n",
    "\n",
    "re.findall(\"6..|2..\", sample)\n",
    "\n",
    "\n",
    "re.findall(\"[0-9]+\", sample)"
   ]
  },
  {
   "cell_type": "code",
   "execution_count": null,
   "id": "02fc5ef8",
   "metadata": {},
   "outputs": [],
   "source": []
  }
 ],
 "metadata": {
  "kernelspec": {
   "display_name": ".venv",
   "language": "python",
   "name": "python3"
  },
  "language_info": {
   "name": "python",
   "version": "3.13.3"
  }
 },
 "nbformat": 4,
 "nbformat_minor": 5
}
